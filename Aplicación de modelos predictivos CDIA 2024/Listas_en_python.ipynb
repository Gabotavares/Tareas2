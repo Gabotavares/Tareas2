{
  "cells": [
    {
      "cell_type": "markdown",
      "id": "fc1dc49e",
      "metadata": {
        "id": "fc1dc49e"
      },
      "source": [
        "  <img src=\"python.png\" width='100' height='100'>  <center>  Listas en Python </center>"
      ]
    },
    {
      "cell_type": "markdown",
      "id": "57e1aa9d",
      "metadata": {
        "id": "57e1aa9d"
      },
      "source": [
        "Las listas en Python son un tipo de dato que permite almacenar datos de cualquier tipo. Son mutables y dinámicas, lo cual es la principal diferencia con los sets y las tuplas.\n",
        "\n",
        "## Crear listas Python\n",
        "\n",
        "Las listas en Python son uno de los tipos o estructuras de datos más versátiles del lenguaje, ya que permiten almacenar un conjunto arbitrario de datos. Es decir, podemos guardar en ellas prácticamente lo que sea. Si vienes de otros lenguajes de programación, se podría decir que son similares a los arrays."
      ]
    },
    {
      "cell_type": "code",
      "execution_count": null,
      "id": "ccbfef58",
      "metadata": {
        "id": "ccbfef58"
      },
      "outputs": [],
      "source": [
        "lista = [1, 2, 3, 4]"
      ]
    },
    {
      "cell_type": "code",
      "execution_count": null,
      "id": "b8351efe",
      "metadata": {
        "id": "b8351efe"
      },
      "outputs": [],
      "source": [
        "# También se puede crear usando list y pasando un objeto iterable.\n",
        "lista = list(\"1234\")"
      ]
    },
    {
      "cell_type": "markdown",
      "id": "ee7809df",
      "metadata": {
        "id": "ee7809df"
      },
      "source": [
        "Una lista sea crea con [] separando sus elementos con comas ,. Una gran ventaja es que pueden almacenar tipos de datos distintos."
      ]
    },
    {
      "cell_type": "code",
      "execution_count": null,
      "id": "b947e57f",
      "metadata": {
        "id": "b947e57f"
      },
      "outputs": [],
      "source": [
        "lista = [1, \"Hola\", 3.67, [1, 2, 3]]"
      ]
    },
    {
      "cell_type": "markdown",
      "id": "b6273e5b",
      "metadata": {
        "id": "b6273e5b"
      },
      "source": [
        "Algunas propiedades de las listas:\n",
        "\n",
        "Son ordenadas, mantienen el orden en el que han sido definidas\n",
        "Pueden ser formadas por tipos arbitrarios\n",
        "Pueden ser indexadas con [i].\n",
        "Se pueden anidar, es decir, meter una dentro de la otra.\n",
        "Son mutables, ya que sus elementos pueden ser modificados.\n",
        "Son dinámicas, ya que se pueden añadir o eliminar elementos.\n",
        "\n",
        "## Acceder y modificar listas\n",
        "\n",
        "Si tenemos una lista a con 3 elementos almacenados en ella, podemos acceder a los mismos usando corchetes y un índice, que va desde 0 a n-1 siendo n el tamaño de la lista."
      ]
    },
    {
      "cell_type": "code",
      "execution_count": null,
      "id": "f0aa256d",
      "metadata": {
        "colab": {
          "base_uri": "https://localhost:8080/"
        },
        "id": "f0aa256d",
        "outputId": "673dc6db-d9a2-48f6-e681-c2ea04a3ccfc"
      },
      "outputs": [
        {
          "output_type": "stream",
          "name": "stdout",
          "text": [
            "90\n",
            "Python\n",
            "3.87\n"
          ]
        }
      ],
      "source": [
        "a = [90, \"Python\", 3.87]\n",
        "print(a[0]) #90\n",
        "print(a[1]) #Python\n",
        "print(a[2]) #3.87"
      ]
    },
    {
      "cell_type": "code",
      "execution_count": null,
      "id": "7eceecd4",
      "metadata": {
        "colab": {
          "base_uri": "https://localhost:8080/"
        },
        "id": "7eceecd4",
        "outputId": "99f02e1b-033f-4d7e-97c8-317f473ff7d0"
      },
      "outputs": [
        {
          "output_type": "stream",
          "name": "stdout",
          "text": [
            "Python\n"
          ]
        }
      ],
      "source": [
        "#Se puede también acceder al último elemento usando el índice [-1]\n",
        "print(a[-2]) #Python"
      ]
    },
    {
      "cell_type": "code",
      "execution_count": null,
      "id": "dbda4578",
      "metadata": {
        "colab": {
          "base_uri": "https://localhost:8080/"
        },
        "id": "dbda4578",
        "outputId": "e6c4b360-2016-4010-f8be-2f42fb77c241"
      },
      "outputs": [
        {
          "output_type": "stream",
          "name": "stdout",
          "text": [
            "[90, 'Python', 1]\n"
          ]
        }
      ],
      "source": [
        "#Y si queremos modificar un elemento de la lista, basta con asignar con el operador = el nuevo valor.\n",
        "a[2] = 1\n",
        "print(a) #[90, 'Python', 1]"
      ]
    },
    {
      "cell_type": "code",
      "execution_count": null,
      "id": "85ab32c0",
      "metadata": {
        "colab": {
          "base_uri": "https://localhost:8080/"
        },
        "id": "85ab32c0",
        "outputId": "c03a83bf-ddb3-4e84-d4b2-a7a3be8de656"
      },
      "outputs": [
        {
          "output_type": "stream",
          "name": "stdout",
          "text": [
            "[1, 3, 4, 5]\n"
          ]
        }
      ],
      "source": [
        "#Un elemento puede ser eliminado con diferentes métodos como veremos a continuación,\n",
        "#o con del y la lista con el índice a eliminar.\n",
        "l = [1, 2, 3, 4, 5]\n",
        "del l[1]\n",
        "print(l) #[1, 3, 4, 5]"
      ]
    },
    {
      "cell_type": "markdown",
      "id": "a6861c50",
      "metadata": {
        "id": "a6861c50"
      },
      "source": [
        "También podemos tener listas anidadas, es decir, una lista dentro de otra. Incluso podemos tener una lista dentro de otra lista y a su vez dentro de otra lista. Para acceder a sus elementos sólo tenemos que usar [] tantas veces como niveles de anidado tengamos."
      ]
    },
    {
      "cell_type": "code",
      "execution_count": null,
      "id": "de44f673",
      "metadata": {
        "colab": {
          "base_uri": "https://localhost:8080/"
        },
        "id": "de44f673",
        "outputId": "e2562e0b-daeb-403e-a6fa-bcc086790a09"
      },
      "outputs": [
        {
          "output_type": "stream",
          "name": "stdout",
          "text": [
            "p\n",
            "5\n",
            "7\n"
          ]
        }
      ],
      "source": [
        "x = [1, 2, 3, ['p', 'q', [5, 6, 7]]]\n",
        "print(x[3][0])    #p\n",
        "print(x[3][2][0]) #5\n",
        "print(x[3][2][2]) #7"
      ]
    },
    {
      "cell_type": "code",
      "execution_count": null,
      "id": "7671cdb8",
      "metadata": {
        "colab": {
          "base_uri": "https://localhost:8080/"
        },
        "id": "7671cdb8",
        "outputId": "fa277bb3-7dad-4455-f972-d65dfc4b1087"
      },
      "outputs": [
        {
          "output_type": "stream",
          "name": "stdout",
          "text": [
            "[0, 0, 0, 4, 5, 6]\n"
          ]
        }
      ],
      "source": [
        "# Y de la misma manera podemos modificar múltiples valores de la lista a la vez usando :\n",
        "l = [1, 2, 3, 4, 5, 6]\n",
        "l[0:3] = [0, 0, 0]\n",
        "print(l) #[0, 0, 0, 4, 5, 6]"
      ]
    },
    {
      "cell_type": "code",
      "execution_count": null,
      "id": "2aeb0419",
      "metadata": {
        "colab": {
          "base_uri": "https://localhost:8080/"
        },
        "id": "2aeb0419",
        "outputId": "304eff14-bd21-4029-e479-b1210b7095be"
      },
      "outputs": [
        {
          "output_type": "stream",
          "name": "stdout",
          "text": [
            "[1, 2, 3, 4, 5]\n"
          ]
        }
      ],
      "source": [
        "# Hay ciertos operadores como el + que pueden ser usados sobre las listas.\n",
        "l = [1, 2, 3]\n",
        "l += [4, 5]\n",
        "print(l) #[1, 2, 3, 4, 5]"
      ]
    },
    {
      "cell_type": "code",
      "execution_count": null,
      "id": "e2800592",
      "metadata": {
        "colab": {
          "base_uri": "https://localhost:8080/"
        },
        "id": "e2800592",
        "outputId": "07cc5a59-4635-48b7-e7cb-ad13fc3761dd"
      },
      "outputs": [
        {
          "output_type": "stream",
          "name": "stdout",
          "text": [
            "1 2 3\n"
          ]
        }
      ],
      "source": [
        "#Y una funcionalidad muy interesante es que se puede asignar una lista con n elementos a n variables.\n",
        "l = [1, 2, 3]\n",
        "x, y, z = l\n",
        "print(x, y, z) #1 2 3"
      ]
    },
    {
      "cell_type": "markdown",
      "id": "4e413350",
      "metadata": {
        "id": "4e413350"
      },
      "source": [
        "## Iterar listas\n",
        "En Python es muy fácil iterar una lista, mucho más que en otros lenguajes de programación."
      ]
    },
    {
      "cell_type": "code",
      "execution_count": null,
      "id": "ebf6ff3b",
      "metadata": {
        "colab": {
          "base_uri": "https://localhost:8080/"
        },
        "id": "ebf6ff3b",
        "outputId": "885ac434-34b9-4635-990f-2846c37a4ea9"
      },
      "outputs": [
        {
          "output_type": "stream",
          "name": "stdout",
          "text": [
            "5\n",
            "9\n",
            "10\n"
          ]
        }
      ],
      "source": [
        "lista = [5, 9, 10]\n",
        "for l in lista:\n",
        "    print(l)\n",
        "#5\n",
        "#9\n",
        "#10"
      ]
    },
    {
      "cell_type": "code",
      "execution_count": null,
      "id": "33b65f8c",
      "metadata": {
        "colab": {
          "base_uri": "https://localhost:8080/"
        },
        "id": "33b65f8c",
        "outputId": "2572febc-996f-4dff-ed0e-35de29462d4e"
      },
      "outputs": [
        {
          "output_type": "stream",
          "name": "stdout",
          "text": [
            "0 5\n",
            "1 9\n",
            "2 10\n"
          ]
        }
      ],
      "source": [
        "# Si necesitamos un índice acompañado con la lista, que tome valores desde 0 hasta n-1, se puede hacer de la siguiente manera.\n",
        "lista = [5, 9, 10]\n",
        "for index, l in enumerate(lista):\n",
        "    print(index, l)\n",
        "#0 5\n",
        "#1 9\n",
        "#2 10"
      ]
    },
    {
      "cell_type": "code",
      "execution_count": null,
      "id": "3da34a22",
      "metadata": {
        "colab": {
          "base_uri": "https://localhost:8080/"
        },
        "id": "3da34a22",
        "outputId": "410c844b-361a-4af9-ad61-ea35499951d0"
      },
      "outputs": [
        {
          "output_type": "stream",
          "name": "stdout",
          "text": [
            "5 Jazz\n",
            "9 Rock\n",
            "10 Djent\n"
          ]
        }
      ],
      "source": [
        "# O si tenemos dos listas y las queremos iterar a la vez, también es posible hacerlo.\n",
        "lista1 = [5, 9, 10]\n",
        "lista2 = [\"Jazz\", \"Rock\", \"Djent\"]\n",
        "for l1, l2 in zip(lista1, lista2):\n",
        "    print(l1, l2)\n",
        "#5 Jazz\n",
        "#9 Rock\n",
        "#10 Djent"
      ]
    },
    {
      "cell_type": "code",
      "execution_count": null,
      "id": "cb1d6d84",
      "metadata": {
        "colab": {
          "base_uri": "https://localhost:8080/"
        },
        "id": "cb1d6d84",
        "outputId": "5cfea661-b956-4687-c1d9-b572189bf155"
      },
      "outputs": [
        {
          "output_type": "stream",
          "name": "stdout",
          "text": [
            "5\n",
            "9\n",
            "10\n"
          ]
        }
      ],
      "source": [
        "#Y por supuesto, también se pueden iterar las listas usando los índices como hemos visto al principio,\n",
        "# y haciendo uso de len(), que nos devuelve la longitud de la lista.\n",
        "lista1 = [5, 9, 10]\n",
        "for i in range(0, len(lista)):\n",
        "    print(lista1[i])\n",
        "#5\n",
        "#9\n",
        "#10"
      ]
    },
    {
      "cell_type": "markdown",
      "id": "7e2c1ed9",
      "metadata": {
        "id": "7e2c1ed9"
      },
      "source": [
        "## Métodos listas\n",
        "append(<obj>)\n",
        "El método append() añade un elemento al final de la lista."
      ]
    },
    {
      "cell_type": "code",
      "execution_count": null,
      "id": "47c7810c",
      "metadata": {
        "colab": {
          "base_uri": "https://localhost:8080/"
        },
        "id": "47c7810c",
        "outputId": "e2a58513-4cbe-4f5b-8853-d7e7890f5b67"
      },
      "outputs": [
        {
          "output_type": "stream",
          "name": "stdout",
          "text": [
            "[1, 2, 3]\n"
          ]
        }
      ],
      "source": [
        "l = [1, 2]\n",
        "l.append(3)\n",
        "print(l) #[1, 2, 3]"
      ]
    },
    {
      "cell_type": "code",
      "execution_count": null,
      "id": "ddb04f03",
      "metadata": {
        "colab": {
          "base_uri": "https://localhost:8080/"
        },
        "id": "ddb04f03",
        "outputId": "2cbfb4da-eb0c-4831-9121-047adcf773eb"
      },
      "outputs": [
        {
          "output_type": "stream",
          "name": "stdout",
          "text": [
            "[1, 2, 3]\n"
          ]
        }
      ],
      "source": [
        "# extend(<iterable>)\n",
        "# El método extend() permite añadir una lista a la lista inicial.\n",
        "l = [1, 3]\n",
        "l.insert(1, 2)\n",
        "print(l) #[1, 2, 3]"
      ]
    },
    {
      "cell_type": "code",
      "execution_count": null,
      "id": "a300fb23",
      "metadata": {
        "colab": {
          "base_uri": "https://localhost:8080/"
        },
        "id": "a300fb23",
        "outputId": "887d9993-afba-4d42-d8b9-a048dcf861f7"
      },
      "outputs": [
        {
          "output_type": "stream",
          "name": "stdout",
          "text": [
            "[1, 2]\n"
          ]
        }
      ],
      "source": [
        "#remove(<obj>)\n",
        "#El método remove() recibe como argumento un objeto y lo borra de la lista.\n",
        "l = [1, 2, 3]\n",
        "l.remove(3)\n",
        "print(l) #[1, 2]"
      ]
    },
    {
      "cell_type": "code",
      "execution_count": null,
      "id": "ab50b69b",
      "metadata": {
        "colab": {
          "base_uri": "https://localhost:8080/"
        },
        "id": "ab50b69b",
        "outputId": "9664bd80-ff4d-4fdb-bd77-56f232537b46"
      },
      "outputs": [
        {
          "output_type": "stream",
          "name": "stdout",
          "text": [
            "[1, 2]\n"
          ]
        }
      ],
      "source": [
        "#pop(index=-1)\n",
        "# El método pop() elimina por defecto el último elemento de la lista,\n",
        "# pero si se pasa como parámetro un índice permite borrar elementos diferentes al último.\n",
        "l = [1, 2, 3]\n",
        "l.pop()\n",
        "print(l) #[1, 2]"
      ]
    },
    {
      "cell_type": "code",
      "execution_count": null,
      "id": "ece12439",
      "metadata": {
        "colab": {
          "base_uri": "https://localhost:8080/"
        },
        "id": "ece12439",
        "outputId": "344bcac4-a3bc-42a3-cf01-af1c06c0cfd6"
      },
      "outputs": [
        {
          "output_type": "stream",
          "name": "stdout",
          "text": [
            "[3, 2, 1]\n"
          ]
        }
      ],
      "source": [
        "# reverse()\n",
        "# El método reverse() inverte el órden de la lista.\n",
        "l = [1, 2, 3]\n",
        "l.reverse()\n",
        "print(l) #[3, 2, 1]"
      ]
    },
    {
      "cell_type": "code",
      "execution_count": null,
      "id": "6168bb63",
      "metadata": {
        "colab": {
          "base_uri": "https://localhost:8080/"
        },
        "id": "6168bb63",
        "outputId": "bee9f1ab-9e8c-4733-d5a7-fb93c45b7afe"
      },
      "outputs": [
        {
          "output_type": "stream",
          "name": "stdout",
          "text": [
            "[1, 2, 3]\n"
          ]
        }
      ],
      "source": [
        "# sort()\n",
        "# El método sort() ordena los elementos de menos a mayor por defecto.\n",
        "l = [3, 1, 2]\n",
        "l.sort()\n",
        "print(l) #[1, 2, 3]"
      ]
    },
    {
      "cell_type": "code",
      "execution_count": null,
      "id": "d238f3e3",
      "metadata": {
        "colab": {
          "base_uri": "https://localhost:8080/"
        },
        "id": "d238f3e3",
        "outputId": "4097a610-a096-4d27-89ed-bfb345c3d2cb"
      },
      "outputs": [
        {
          "output_type": "stream",
          "name": "stdout",
          "text": [
            "[3, 2, 1]\n"
          ]
        }
      ],
      "source": [
        "# Y también permite ordenar de mayor a menor si se pasa como parámetro reverse=True\n",
        "l = [3, 1, 2]\n",
        "l.sort(reverse=True)\n",
        "print(l) #[3, 2, 1]"
      ]
    },
    {
      "cell_type": "code",
      "execution_count": null,
      "id": "06c643c9",
      "metadata": {
        "colab": {
          "base_uri": "https://localhost:8080/"
        },
        "id": "06c643c9",
        "outputId": "66ee1d32-f317-448d-83a8-eb61dbb03cd4"
      },
      "outputs": [
        {
          "output_type": "stream",
          "name": "stdout",
          "text": [
            "1\n"
          ]
        }
      ],
      "source": [
        "# index(<obj>[,index])\n",
        "#El método index() recibe como parámetro un objeto y devuelve el índice de su primera aparición.\n",
        "#Como hemos visto en otras ocasiones, el índice del primer elemento es el 0.\n",
        "l = [\"Periphery\", \"Intervals\", \"Monuments\"]\n",
        "print(l.index(\"Intervals\"))"
      ]
    },
    {
      "cell_type": "code",
      "execution_count": null,
      "id": "30439223",
      "metadata": {
        "colab": {
          "base_uri": "https://localhost:8080/"
        },
        "id": "30439223",
        "outputId": "576825ed-f40e-405b-b8ef-04250716daaf"
      },
      "outputs": [
        {
          "output_type": "stream",
          "name": "stdout",
          "text": [
            "5\n"
          ]
        }
      ],
      "source": [
        "#También permite introducir un parámetro opcional que representa el índice desde el que comenzar la búsqueda del objeto.\n",
        "#Es como si ignorara todo lo que hay antes de ese índice para la búsqueda, en este caso el 4.\n",
        "l = [1, 1, 1, 1, 2, 1, 4, 5]\n",
        "print(l.index(1, 4)) #5"
      ]
    },
    {
      "cell_type": "markdown",
      "id": "48610ceb",
      "metadata": {
        "id": "48610ceb"
      },
      "source": [
        "## METACOGNICIÓN"
      ]
    },
    {
      "cell_type": "code",
      "execution_count": null,
      "id": "4482502e",
      "metadata": {
        "id": "4482502e"
      },
      "outputs": [],
      "source": [
        "#Elabora un programa que lea un arreglo de 10 posiciones que contenga las edades de 10 de sus compañeros,\n",
        "#calcule el promedio de las edades, obtenga la edad mayor y la edad menor. Al final imprima todos los elementos de la lista"
      ]
    },
    {
      "cell_type": "code",
      "source": [
        "# Funcion para calcularel promedio de una lista de edades\n",
        "def main():\n",
        "    # Definir una lista vacía para almacenar las edades\n",
        "    edades = []\n",
        "\n",
        "    # Leer las edades de los 10 compañeros\n",
        "    for i in range(10):\n",
        "        edad = int(input(f\"Ingrese la edad del compañero {i+1}: \"))\n",
        "        edades.append(edad)\n",
        "\n",
        "    # Calcular el promedio de las edades\n",
        "    promedio = sum(edades) / len(edades)\n",
        "\n",
        "    # Encontrar la edad mayor y la edad menor\n",
        "    edad_mayor = max(edades)\n",
        "    edad_menor = min(edades)\n",
        "\n",
        "    # Imprimir el promedio, la edad mayor, la edad menor y todos los elementos de la lista\n",
        "    print(f\"El promedio de las edades es: {promedio}\")\n",
        "    print(f\"La edad mayor es: {edad_mayor}\")\n",
        "    print(f\"La edad menor es: {edad_menor}\")\n",
        "    print(\"Lista de edades:\")\n",
        "    print(edades)\n",
        "\n",
        "if __name__ == \"__main__\":\n",
        "    main()"
      ],
      "metadata": {
        "colab": {
          "base_uri": "https://localhost:8080/"
        },
        "id": "ssqF_T9Sw_hu",
        "outputId": "f1101e91-06b5-4e43-da10-c404596e3e56"
      },
      "id": "ssqF_T9Sw_hu",
      "execution_count": null,
      "outputs": [
        {
          "output_type": "stream",
          "name": "stdout",
          "text": [
            "Ingrese la edad del compañero 1: 17\n",
            "Ingrese la edad del compañero 2: 18\n",
            "Ingrese la edad del compañero 3: 18\n",
            "Ingrese la edad del compañero 4: 18\n",
            "Ingrese la edad del compañero 5: 17\n",
            "Ingrese la edad del compañero 6: 17\n",
            "Ingrese la edad del compañero 7: 18\n",
            "Ingrese la edad del compañero 8: 17\n",
            "Ingrese la edad del compañero 9: 17\n",
            "Ingrese la edad del compañero 10: 17\n",
            "El promedio de las edades es: 17.4\n",
            "La edad mayor es: 18\n",
            "La edad menor es: 17\n",
            "Lista de edades:\n",
            "[17, 18, 18, 18, 17, 17, 18, 17, 17, 17]\n"
          ]
        }
      ]
    },
    {
      "cell_type": "code",
      "execution_count": null,
      "id": "767134d7",
      "metadata": {
        "id": "767134d7"
      },
      "outputs": [],
      "source": [
        "#Elabore un programa que lea un arreglo de 14 posiciones que contenga los sueldos de los trabajadores de una empresa\n",
        "#agregue el sueldo de un empleado más de $2,500.00, Calcule la nomina total (suma de todos los sueldos) ordene el arreglo\n",
        "#Ordene los datos, elimine el primer elemento de la fila, Al final imprima todos los elementos de la lista"
      ]
    },
    {
      "cell_type": "code",
      "source": [
        "def main():\n",
        "    # Definir una lista vacía para almacenar los sueldos\n",
        "    sueldos = []\n",
        "\n",
        "    # Leer los sueldos de los 14 trabajadores\n",
        "    for i in range(14):\n",
        "        sueldo = float(input(f\"Ingrese el sueldo del trabajador {i+1}: \"))\n",
        "        sueldos.append(sueldo)\n",
        "\n",
        "    # Agregar el sueldo de un empleado más de $2,500.00\n",
        "    sueldo_nuevo = float(input(\"Ingrese el sueldo del nuevo empleado (más de $2,500.00): \"))\n",
        "    while sueldo_nuevo <= 2500:\n",
        "        print(\"El sueldo debe ser mayor a $2,500.00. Inténtelo de nuevo.\")\n",
        "        sueldo_nuevo = float(input(\"Ingrese el sueldo del nuevo empleado (más de $2,500.00): \"))\n",
        "    sueldos.append(sueldo_nuevo)\n",
        "\n",
        "    # Calcular la nómina total (suma de todos los sueldos)\n",
        "    nomina_total = sum(sueldos)\n",
        "\n",
        "    # Ordenar el arreglo de sueldos\n",
        "    sueldos.sort()\n",
        "\n",
        "    # Eliminar el primer elemento de la lista\n",
        "    sueldos.pop(0)\n",
        "\n",
        "    # Imprimir todos los elementos de la lista\n",
        "    print(\"Lista de sueldos después de la modificación:\")\n",
        "    for sueldo in sueldos:\n",
        "        print(sueldo)\n",
        "\n",
        "    # Imprimir la nómina total\n",
        "    print(f\"Nómina total: {nomina_total}\")\n",
        "\n",
        "\n",
        "if __name__ == \"__main__\":\n",
        "    main()"
      ],
      "metadata": {
        "colab": {
          "base_uri": "https://localhost:8080/"
        },
        "id": "jy4rnEeezORd",
        "outputId": "2d35ff1f-ac2f-46cd-f5cc-fd257748883b"
      },
      "id": "jy4rnEeezORd",
      "execution_count": null,
      "outputs": [
        {
          "output_type": "stream",
          "name": "stdout",
          "text": [
            "Ingrese el sueldo del trabajador 1: 1000\n",
            "Ingrese el sueldo del trabajador 2: 800\n",
            "Ingrese el sueldo del trabajador 3: 950\n",
            "Ingrese el sueldo del trabajador 4: 1500\n",
            "Ingrese el sueldo del trabajador 5: 750\n",
            "Ingrese el sueldo del trabajador 6: 850\n",
            "Ingrese el sueldo del trabajador 7: 890\n",
            "Ingrese el sueldo del trabajador 8: 900\n",
            "Ingrese el sueldo del trabajador 9: 2000\n",
            "Ingrese el sueldo del trabajador 10: 1600\n",
            "Ingrese el sueldo del trabajador 11: 710\n",
            "Ingrese el sueldo del trabajador 12: 3500\n",
            "Ingrese el sueldo del trabajador 13: 1000\n",
            "Ingrese el sueldo del trabajador 14: 1500\n",
            "Ingrese el sueldo del nuevo empleado (más de $2,500.00): 3500\n",
            "Lista de sueldos después de la modificación:\n",
            "750.0\n",
            "800.0\n",
            "850.0\n",
            "890.0\n",
            "900.0\n",
            "950.0\n",
            "1000.0\n",
            "1000.0\n",
            "1500.0\n",
            "1500.0\n",
            "1600.0\n",
            "2000.0\n",
            "3500.0\n",
            "3500.0\n",
            "Nómina total: 21450.0\n"
          ]
        }
      ]
    }
  ],
  "metadata": {
    "kernelspec": {
      "display_name": "Python 3 (ipykernel)",
      "language": "python",
      "name": "python3"
    },
    "language_info": {
      "codemirror_mode": {
        "name": "ipython",
        "version": 3
      },
      "file_extension": ".py",
      "mimetype": "text/x-python",
      "name": "python",
      "nbconvert_exporter": "python",
      "pygments_lexer": "ipython3",
      "version": "3.9.13"
    },
    "colab": {
      "provenance": []
    }
  },
  "nbformat": 4,
  "nbformat_minor": 5
}